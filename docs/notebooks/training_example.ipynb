{
 "cells": [
  {
   "cell_type": "code",
   "execution_count": null,
   "id": "6c88f373",
   "metadata": {},
   "outputs": [],
   "source": [
    "import os\n",
    "import sys\n",
    "module_path = os.path.abspath(os.path.join('..'))\n",
    "if module_path not in sys.path:\n",
    "    sys.path.append(module_path)\n",
    "from cellshape_voxel.autoencoder import AutoEncoder\n",
    "from cellshape_voxel.datasets import VoxelDataset\n",
    "import torch\n",
    "from torch.utils.data import DataLoader\n",
    "from cellshape_voxel.training_functions import train"
   ]
  },
  {
   "cell_type": "code",
   "execution_count": null,
   "id": "7a3b2a68",
   "metadata": {},
   "outputs": [],
   "source": [
    "PATH_TO_DATASET = '/home/mvries/Documents/Datasets/OPM/SingleCellFromNathan_17122021/Plate3/stacked/'\n",
    "batch_size = 16\n",
    "learning_rate = 0.0000001\n",
    "\n",
    "model = AutoEncoder(num_layers_encoder=4,\n",
    "                   num_layers_decoder=4,\n",
    "                    input_shape=(300, 300, 300, 1),\n",
    "                   encoder_type='resnet')\n",
    "\n",
    "dataset = VoxelDataset(PATH_TO_DATASET, transform=None, img_size=(300, 300, 300))\n",
    "\n",
    "dataloader = DataLoader(dataset, batch_size=batch_size, shuffle=True)\n",
    "\n",
    "optimizer = torch.optim.Adam(\n",
    "    model.parameters(),\n",
    "    lr=learning_rate * 16 / batch_size,\n",
    "    betas=(0.9, 0.999),\n",
    "    weight_decay=1e-6,\n",
    ")\n",
    "\n",
    "train(model, dataloader, 1, optimizer, \"./\")"
   ]
  },
  {
   "cell_type": "code",
   "execution_count": null,
   "id": "ee0f5797",
   "metadata": {},
   "outputs": [],
   "source": []
  }
 ],
 "metadata": {
  "kernelspec": {
   "display_name": "Python 3",
   "language": "python",
   "name": "python3"
  },
  "language_info": {
   "codemirror_mode": {
    "name": "ipython",
    "version": 3
   },
   "file_extension": ".py",
   "mimetype": "text/x-python",
   "name": "python",
   "nbconvert_exporter": "python",
   "pygments_lexer": "ipython3",
   "version": "3.8.8"
  }
 },
 "nbformat": 4,
 "nbformat_minor": 5
}